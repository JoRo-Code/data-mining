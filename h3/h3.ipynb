{
 "cells": [
  {
   "cell_type": "markdown",
   "metadata": {},
   "source": [
    "# Mining Data Streams\n",
    "\n",
    "\n",
    "## Sampling\n",
    "\n",
    "- Reservoir\n",
    "    fixed size\n",
    "    pick new sample with probability s/n\n",
    "    replace uniformly, all s samples are equally likely to get replaced\n",
    "\n",
    "## Filtering\n",
    "- First cut\n",
    "    hashed bit array\n",
    "- Bloom filter\n",
    "    using n hash functions to verify that x is in S\n",
    "    optimal k = n/m *ln(2)\n",
    "\n",
    "## Algorithms on stream\n",
    "- unique elements\n",
    "- occurence\n",
    "    - moments\n",
    "        - 0 - distinct values\n",
    "        - 1 - stream length\n",
    "        - 2 - surprise\n",
    "        - k - Sum of (m_j)^k = n(c_k - ( c - 1)^k )\n",
    "\n",
    "\n"
   ]
  },
  {
   "cell_type": "markdown",
   "metadata": {},
   "source": [
    "implementing: [In-Core Computation of Geometric Centralities with\n",
    "HyperBall:\n",
    "A Hundred Billion Nodes and Beyond](https://arxiv.org/pdf/1308.2144v2)\n",
    "1. Flajolet-Martin algorithm\n",
    "2. Streaming graph algorithm\n",
    "\n"
   ]
  },
  {
   "cell_type": "markdown",
   "metadata": {},
   "source": [
    "HyperLogLog\n",
    "\n",
    "HyperBall\n"
   ]
  },
  {
   "cell_type": "code",
   "execution_count": 1,
   "metadata": {},
   "outputs": [],
   "source": [
    "# HyperLogLog counter\n",
    "\n",
    "from mmh3 import hash\n",
    "\n",
    "def _hash(x):\n",
    "    return hash(x)\n",
    "\n",
    "def _leading_zeros(x):\n",
    "    if isinstance(x, bytes):\n",
    "        # Convert bytes to string and count leading zeros\n",
    "        return str(x, 'ascii').count('0', 0, str(x, 'ascii').find('1'))\n",
    "    elif isinstance(x, int):\n",
    "        # Convert integer to binary string and count leading zeros\n",
    "        return bin(x)[2:].count('0', 0, bin(x)[2:].find('1'))\n",
    "\n",
    "    raise ValueError(f\"Unsupported type: {type(x)}\")\n",
    "\n",
    "def p_plus_one(x):\n",
    "    return _leading_zeros(x) + 1\n",
    "\n",
    "class Counter:\n",
    "    def __init__(self, b):\n",
    "        self.p = (2**b)\n",
    "        self.b = b\n",
    "        self.M = [0] * self.p\n",
    "        self.alpha_p = 0.7213 / (1 + 1.079 / self.p) # https://algo.inria.fr/flajolet/Publications/FlFuGaMe07.pdf p.140 (14)\n",
    "    \n",
    "    def set_m(self, m):\n",
    "        self.M = m\n",
    "\n",
    "    def add(self, x, verbose=False):\n",
    "        h = _hash(str(x).encode('utf-8'))\n",
    "        # Get bucket index using first b bits\n",
    "        i = h & ((1 << self.b) - 1)\n",
    "        # Get remaining bits\n",
    "        w = h >> self.b\n",
    "        # count leading zeros\n",
    "        p = p_plus_one(w)\n",
    "        self.M[i] = max(self.M[i], p)\n",
    "        \n",
    "        if verbose: print(f\"h: {h:032b}, i: {i:{self.b}b}, w: {w:{32-self.b}b}, p_+1: {p}, M[i]: {self.M[i]}\")\n",
    "\n",
    "\n",
    "    def size(self):\n",
    "        Z = sum(2**(-m) for m in self.M)\n",
    "        return self.alpha_p * self.p**2 * Z\n",
    "    \n",
    "    def _repr_(self):\n",
    "        return f\"Counter(b={self.b}, p={self.p}, M={self.M})\"\n",
    "    \n",
    "    \n"
   ]
  },
  {
   "cell_type": "code",
   "execution_count": 2,
   "metadata": {},
   "outputs": [],
   "source": [
    "c = Counter(4)"
   ]
  },
  {
   "cell_type": "code",
   "execution_count": 3,
   "metadata": {},
   "outputs": [
    {
     "name": "stdout",
     "output_type": "stream",
     "text": [
      "h: 00000110000101001011110011100110, i:  110, w:      11000010100101111001110, p_+1: 1, M[i]: 1\n"
     ]
    },
    {
     "data": {
      "text/plain": [
       "2681.2983429943206"
      ]
     },
     "execution_count": 3,
     "metadata": {},
     "output_type": "execute_result"
    }
   ],
   "source": [
    "c.add(500, True)\n",
    "c.size()\n"
   ]
  },
  {
   "cell_type": "code",
   "execution_count": 4,
   "metadata": {},
   "outputs": [
    {
     "data": {
      "text/plain": [
       "'Counter(b=4, p=16, M=[0, 0, 0, 0, 0, 0, 1, 0, 0, 0, 0, 0, 0, 0, 0, 0])'"
      ]
     },
     "execution_count": 4,
     "metadata": {},
     "output_type": "execute_result"
    }
   ],
   "source": [
    "c._repr_()"
   ]
  },
  {
   "cell_type": "code",
   "execution_count": 5,
   "metadata": {},
   "outputs": [
    {
     "data": {
      "text/plain": [
       "2594.8048480590196"
      ]
     },
     "execution_count": 5,
     "metadata": {},
     "output_type": "execute_result"
    }
   ],
   "source": [
    "c.add(100)\n",
    "c.size()\n"
   ]
  },
  {
   "cell_type": "code",
   "execution_count": 6,
   "metadata": {},
   "outputs": [
    {
     "data": {
      "text/plain": [
       "'Counter(b=4, p=16, M=[0, 0, 0, 0, 0, 0, 1, 0, 0, 0, 0, 0, 0, 0, 0, 1])'"
      ]
     },
     "execution_count": 6,
     "metadata": {},
     "output_type": "execute_result"
    }
   ],
   "source": [
    "c._repr_()"
   ]
  },
  {
   "cell_type": "code",
   "execution_count": 7,
   "metadata": {},
   "outputs": [],
   "source": [
    "def process_data(filename):\n",
    "    data = []\n",
    "    with open(filename, 'r') as f:\n",
    "        for line in f:\n",
    "            if line.strip().startswith('#'):\n",
    "                continue\n",
    "            source, target = map(int, line.strip().split())\n",
    "            data.append((source, target))\n",
    "    return data\n",
    "    \n",
    "class Graph:\n",
    "    def __init__(self, data):\n",
    "        self.build(data)\n",
    "    \n",
    "    def build(self, data):\n",
    "        self.adj_list = {}\n",
    "        self.nodes = set()\n",
    "        \n",
    "        # Build the graph\n",
    "        for source, target in data:\n",
    "            self.nodes.add(source)\n",
    "            self.nodes.add(target)\n",
    "            \n",
    "            if source not in self.adj_list:\n",
    "                self.adj_list[source] = set()\n",
    "            self.adj_list[source].add(target)\n",
    "            \n",
    "        # Add node mapping\n",
    "        self.node_to_idx = {node: idx for idx, node in enumerate(sorted(self.nodes))}\n",
    "        self.idx_to_node = {idx: node for node, idx in self.node_to_idx.items()}\n",
    "    \n",
    "    def neighbors(self, idx):\n",
    "        \"\"\"Return neighbors of a node (using internal index)\"\"\"\n",
    "        node = self.idx_to_node[idx]\n",
    "        return {self.node_to_idx[n] for n in self.adj_list.get(node, set())}\n",
    "    \n",
    "    def num_nodes(self):\n",
    "        \"\"\"Return total number of nodes\"\"\"\n",
    "        return len(self.nodes)\n",
    "        \n",
    "        \n"
   ]
  },
  {
   "cell_type": "code",
   "execution_count": null,
   "metadata": {},
   "outputs": [],
   "source": [
    "\n",
    "\n"
   ]
  },
  {
   "cell_type": "code",
   "execution_count": 8,
   "metadata": {},
   "outputs": [],
   "source": [
    "data = process_data('data/web-BerkStan.txt')"
   ]
  },
  {
   "cell_type": "code",
   "execution_count": 9,
   "metadata": {},
   "outputs": [],
   "source": [
    "\n",
    "G = Graph(data[:1000])\n"
   ]
  },
  {
   "cell_type": "code",
   "execution_count": null,
   "metadata": {},
   "outputs": [],
   "source": []
  },
  {
   "cell_type": "code",
   "execution_count": 12,
   "metadata": {},
   "outputs": [
    {
     "ename": "KeyboardInterrupt",
     "evalue": "",
     "output_type": "error",
     "traceback": [
      "\u001b[0;31m---------------------------------------------------------------------------\u001b[0m",
      "\u001b[0;31mKeyboardInterrupt\u001b[0m                         Traceback (most recent call last)",
      "Cell \u001b[0;32mIn[12], line 65\u001b[0m\n\u001b[1;32m     62\u001b[0m         a \u001b[38;5;241m=\u001b[39m union(c[w], a)\n\u001b[1;32m     64\u001b[0m     \u001b[38;5;66;03m# write to disk\u001b[39;00m\n\u001b[0;32m---> 65\u001b[0m     \u001b[43mD\u001b[49m\u001b[38;5;241;43m.\u001b[39;49m\u001b[43mwrite_single_vc\u001b[49m\u001b[43m(\u001b[49m\u001b[43mv\u001b[49m\u001b[43m,\u001b[49m\u001b[43m \u001b[49m\u001b[43ma\u001b[49m\u001b[38;5;241;43m.\u001b[39;49m\u001b[43mM\u001b[49m\u001b[43m)\u001b[49m\n\u001b[1;32m     67\u001b[0m \u001b[38;5;66;03m# read from disk\u001b[39;00m\n\u001b[1;32m     68\u001b[0m vms \u001b[38;5;241m=\u001b[39m D\u001b[38;5;241m.\u001b[39mread_edges()\n",
      "Cell \u001b[0;32mIn[12], line 26\u001b[0m, in \u001b[0;36mDisk.write_single_vc\u001b[0;34m(self, v, c)\u001b[0m\n\u001b[1;32m     23\u001b[0m \u001b[38;5;250m\u001b[39m\u001b[38;5;124;03m\"\"\"Write a single edge to disk\"\"\"\u001b[39;00m\n\u001b[1;32m     24\u001b[0m \u001b[38;5;28;01mwith\u001b[39;00m \u001b[38;5;28mopen\u001b[39m(\u001b[38;5;28mself\u001b[39m\u001b[38;5;241m.\u001b[39mpath, \u001b[38;5;124m'\u001b[39m\u001b[38;5;124ma\u001b[39m\u001b[38;5;124m'\u001b[39m) \u001b[38;5;28;01mas\u001b[39;00m f:\n\u001b[1;32m     25\u001b[0m     \u001b[38;5;66;03m# Convert list to comma-separated string\u001b[39;00m\n\u001b[0;32m---> 26\u001b[0m     c_str \u001b[38;5;241m=\u001b[39m \u001b[38;5;124;43m'\u001b[39;49m\u001b[38;5;124;43m,\u001b[39;49m\u001b[38;5;124;43m'\u001b[39;49m\u001b[38;5;241;43m.\u001b[39;49m\u001b[43mjoin\u001b[49m\u001b[43m(\u001b[49m\u001b[38;5;28;43mmap\u001b[39;49m\u001b[43m(\u001b[49m\u001b[38;5;28;43mstr\u001b[39;49m\u001b[43m,\u001b[49m\u001b[43m \u001b[49m\u001b[43mc\u001b[49m\u001b[43m)\u001b[49m\u001b[43m)\u001b[49m\n\u001b[1;32m     27\u001b[0m     f\u001b[38;5;241m.\u001b[39mwrite(\u001b[38;5;124mf\u001b[39m\u001b[38;5;124m\"\u001b[39m\u001b[38;5;132;01m{\u001b[39;00mv\u001b[38;5;132;01m}\u001b[39;00m\u001b[38;5;132;01m{\u001b[39;00m\u001b[38;5;28mself\u001b[39m\u001b[38;5;241m.\u001b[39mdelimiter\u001b[38;5;132;01m}\u001b[39;00m\u001b[38;5;132;01m{\u001b[39;00mc_str\u001b[38;5;132;01m}\u001b[39;00m\u001b[38;5;130;01m\\n\u001b[39;00m\u001b[38;5;124m\"\u001b[39m)\n",
      "\u001b[0;31mKeyboardInterrupt\u001b[0m: "
     ]
    }
   ],
   "source": [
    "\n",
    "\n",
    "import os\n",
    "\n",
    "class Disk:\n",
    "    def __init__(self, path):\n",
    "        self.path = path\n",
    "        self.delimiter = '---'\n",
    "        \n",
    "        # Create directory if it doesn't exist\n",
    "        os.makedirs(os.path.dirname(self.path), exist_ok=True)\n",
    "        \n",
    "        # create path if doesn't exist\n",
    "        if not os.path.exists(self.path):\n",
    "            with open(self.path, 'w') as f:\n",
    "                f.write('')\n",
    "        \n",
    "        self.clear()\n",
    "    \n",
    "    def clear(self):\n",
    "        with open(self.path, 'w') as f:\n",
    "            f.write('')\n",
    "\n",
    "    def write_single_vc(self, v, c):\n",
    "        \"\"\"Write a single edge to disk\"\"\"\n",
    "        with open(self.path, 'a') as f:\n",
    "            # Convert list to comma-separated string\n",
    "            c_str = ','.join(map(str, c))\n",
    "            f.write(f\"{v}{self.delimiter}{c_str}\\n\")\n",
    "    \n",
    "    def read_edges(self):\n",
    "        \"\"\"Read edges from disk and return as list of tuples\"\"\"\n",
    "        edges = []\n",
    "        with open(self.path, 'r') as f:\n",
    "            for line in f:\n",
    "                v, c_str = line.strip().split(self.delimiter)\n",
    "                # Convert string back to list of integers\n",
    "                c = list(map(int, c_str.split(',')))\n",
    "                edges.append((int(v), c))\n",
    "        return edges\n",
    "\n",
    "def union(a:Counter, b:Counter):\n",
    "    for i in range(a.p):\n",
    "        a.M[i] = max(a.M[i], b.M[i])\n",
    "    return a\n",
    "\n",
    "\n",
    "# HyperBall algorithm\n",
    "D = Disk('tmp/counts.txt')\n",
    "B = 10\n",
    "N = G.num_nodes()\n",
    "\n",
    "# intialize counters\n",
    "c = [Counter(B) for _ in range(N)]\n",
    "\n",
    "# add self to each counter\n",
    "for v in range(N):\n",
    "    c[v].add(v)\n",
    "\n",
    "while True:\n",
    "    for v in range(N):\n",
    "        a = c[v]\n",
    "        for w in G.neighbors(v):\n",
    "            a = union(c[w], a)\n",
    "        \n",
    "        # write to disk\n",
    "        D.write_single_vc(v, a.M)\n",
    "    \n",
    "    # read from disk\n",
    "    vms = D.read_edges()\n",
    "    D.clear()\n",
    "    \n",
    "    # update counters if changed\n",
    "    changed = False\n",
    "    for v, m in vms:\n",
    "        if c[v].M != m:\n",
    "            c[v].set_m(m)\n",
    "            changed = True\n",
    "    \n",
    "    if not changed:\n",
    "        break\n",
    "    \n"
   ]
  },
  {
   "cell_type": "code",
   "execution_count": null,
   "metadata": {},
   "outputs": [],
   "source": []
  }
 ],
 "metadata": {
  "kernelspec": {
   "display_name": ".venv",
   "language": "python",
   "name": "python3"
  },
  "language_info": {
   "codemirror_mode": {
    "name": "ipython",
    "version": 3
   },
   "file_extension": ".py",
   "mimetype": "text/x-python",
   "name": "python",
   "nbconvert_exporter": "python",
   "pygments_lexer": "ipython3",
   "version": "3.12.6"
  }
 },
 "nbformat": 4,
 "nbformat_minor": 2
}
