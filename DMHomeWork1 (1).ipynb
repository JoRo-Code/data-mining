{
 "cells": [
  {
   "cell_type": "code",
   "execution_count": null,
   "id": "a7efb704-a0ce-4593-a317-f5b09684fa3e",
   "metadata": {},
   "outputs": [],
   "source": [
    "!pip install numpy\n",
    "!pip install ordered_set"
   ]
  },
  {
   "cell_type": "code",
   "execution_count": 1,
   "id": "1cd9a2fd-3537-49dd-9f58-008ca86b21e3",
   "metadata": {},
   "outputs": [],
   "source": [
    "import numpy as np\n",
    "import os\n",
    "import hashlib\n",
    "from ordered_set import OrderedSet"
   ]
  },
  {
   "cell_type": "code",
   "execution_count": 3,
   "id": "6fd09db5-1900-4d80-b054-6c4b292f4f2c",
   "metadata": {},
   "outputs": [],
   "source": [
    "#set of shingles without duplicates, in order of insertion\n",
    "#generate the same hash values for equivalent shingles each time this function is called\n",
    "#(using hashlib, generate hexadecimal values)\n",
    "def Shingling(k, file_path):\n",
    "    with open(file_path, 'r') as file:\n",
    "        words = [word for line in file for word in line.strip().split()]\n",
    "    ordered_shingles = OrderedSet()\n",
    "    #shingles = []\n",
    "    for i in range(len(words)-k):\n",
    "        # need to convert sublist to string in order to use encode:\n",
    "        shingle = ' '.join(words[i:i+k-1])\n",
    "        \"\"\"\n",
    "        hash_value = hashlib.md5(shingle.encode()).hexdigest() #hash(tuple(shingle))\n",
    "        ordered_shingles.add(hash_value)\n",
    "        shingles.append(hash_value)\n",
    "        \"\"\"\n",
    "        hash_value_0 = hashlib.md5(shingle.encode())\n",
    "        # converting to integer within range (0,2^(32)-1)\n",
    "        #hash_value = int(hash_value_0.hexdigest(), 16) % (2**32)\n",
    "        hash_value = int(hash_value_0.hexdigest(), 16) % (2**16)\n",
    "        ordered_shingles.add(hash_value)\n",
    "    \n",
    "    return ordered_shingles"
   ]
  },
  {
   "cell_type": "code",
   "execution_count": 4,
   "id": "3a7df0f0-29a8-4cc4-801c-250b11e0b11a",
   "metadata": {},
   "outputs": [],
   "source": [
    "\n",
    "def CompareSets(hashed_shingle_set1, hashed_shingle_set2):\n",
    "    # Compute the jaccard similarity of the hash values(shingles) in the sets:\n",
    "    jacc = hashed_shingle_set1.intersection(hashed_shingle_set2)/hashed_shingle_set1.union(hashed_shingle_set2)\n",
    "    return jacc    "
   ]
  },
  {
   "cell_type": "code",
   "execution_count": 5,
   "id": "4024f080-639c-4651-b2af-4d0abaa9d55b",
   "metadata": {},
   "outputs": [],
   "source": [
    "# generate a list of all documents; ordered sets of integers (hashed shingles)\n",
    "k = 7 # (de använder 9 i boken)\n",
    "folder_path = 'data/'\n",
    "hashed_shingle_sets = [] # length (nr od documents): 99, ranging in length between 23 and 4505 unique shingles\n",
    "#universal_set = [] # length: 40094\n",
    "for filename in os.listdir(folder_path):\n",
    "    if filename.endswith('.txt'):\n",
    "        file_path = os.path.join(folder_path, filename)\n",
    "        ordered_shingles = Shingling(k, file_path)\n",
    "        hashed_shingle_sets.append(ordered_shingles)\n",
    "        #universal_set.extend(shingles)\n",
    "        \n",
    "        \n",
    "#universal_set = OrderedSet(universal_set)\n"
   ]
  },
  {
   "cell_type": "code",
   "execution_count": 11,
   "id": "d7ec8348-2e8a-4fe6-9285-2780db224cea",
   "metadata": {},
   "outputs": [],
   "source": [
    "# builds minHash signatures from given set of integers (i.e. documents)\n",
    "# The minhash value of any column is the number of\n",
    "# the first row, in the permuted order, in which the column has a 1.\n",
    "def MinHashing(sets_of_integers):\n",
    "    \"\"\"\n",
    "    * Length of signatures, n, can be selected randomly\n",
    "    * Theoretically: from the column representing set S, construct the minhash signature for S, the\n",
    "      vector [h1(S), h2(S), . . . , hn(S)]\n",
    "    * In practise: instead of picking n random permutations of rows, we pick n randomly\n",
    "      chosen hash functions h1, h2, . . . , hn on the rows.\n",
    "    * If the number of rows in the characteristic matrix is not a prime number,\n",
    "      there will be collisions, where two rows get the same hash value.\n",
    "    * Compression, n = 50 (att gå från 40094 till 1000 känns bättre)\n",
    "    * The minHash signature can be a set or array\n",
    "    \"\"\"\n",
    "    #enabling minHash generation: reconstruct the list of hashed_shingle_sets into a characteristic matrix:\n",
    "    #dimensions: (len(universal_set), len(hashed_shingle_sets)) = (2^(32), 99) (2^32=4294967296, 2^16=65536, har 40094 unika shingles)\n",
    "    #characteristic_matrix = np.zeros((2**32,len(sets_of_integers)), dtype=int)\n",
    "    characteristic_matrix = np.zeros((2**16,len(sets_of_integers)), dtype=int)\n",
    "    for i in range(len(sets_of_integers)):\n",
    "        characteristic_matrix[sets_of_integers[i],i] = 1\n",
    "        \n",
    "    #heuristic functions: \n",
    "    # ai, bi randomly set integers, p prime number\n",
    "    #hi = (ai*x+bi) % p\n",
    "    n=10\n",
    "    scales = np.random.choice(a=10*n, size=n, replace=False)\n",
    "    bias = np.random.choice(a=10*n, size=n, replace=False)\n",
    "    #chose a prime number close to 10*n, n=50: 503, 509, 521\n",
    "    prime_numb = 509\n",
    "\n",
    "    #signature matrix:\n",
    "    SIG = np.full((n, len(sets_of_integers)), np.inf)\n",
    "    print(SIG[1,1])\n",
    "    for r in range(len(characteristic_matrix)):\n",
    "        h_r = np.zeros(n)\n",
    "        for i in range(n):\n",
    "            h_r[i] = (scales[i]*r+bias[i])%prime_numb\n",
    "        \n",
    "        for c in range(len(sets_of_integers)):\n",
    "            if characteristic_matrix[r,c] == 1:\n",
    "                #decide if should change value in the signature matrix:\n",
    "                for i in range(n):\n",
    "                    if h_r[i]<SIG[i,c]:\n",
    "                       SIG[i,c] = h_r[i]\n",
    "                    \n",
    "    return SIG"
   ]
  },
  {
   "cell_type": "code",
   "execution_count": 12,
   "id": "00aac229-34fb-4519-8258-fc04e3cd8c48",
   "metadata": {},
   "outputs": [
    {
     "name": "stdout",
     "output_type": "stream",
     "text": [
      "inf\n",
      "[[ 0.  4.  8.  4.  0.  2.  7.  4.  5.  1.  2.  0.  0.  0.  5.  1.  0.  0.\n",
      "   1.  0.  0.  0. 18.  0.  3.  4.  0.  0.  6.  1.  0.  1.  8.  1.  0.  9.\n",
      "   2.  0.  0.  1.  0. 11.  8.  7.  5.  0.  8.  1.  1.  0.  2.  0.  6.  2.\n",
      "   0. 10.  2.  0.  4.  0.  4.  0.  1.  0.  0.  0.  8.  1.  0.  0.  0.  2.\n",
      "  10.  4.  4.  0.  0. 26.  3.  0.  0.  0.  2.  0.  3.  3.  0. 10.  8.  0.\n",
      "  10.  2.  0.  6.  1.  4.  6.  0.  6.]\n",
      " [ 0.  2.  0.  5.  3.  0.  5.  2.  1.  4.  1.  8.  0.  1.  1.  5.  0.  3.\n",
      "   2.  1.  0.  0.  7.  0.  1.  0.  0.  0.  0.  0.  0.  4.  5.  1.  0.  3.\n",
      "   6.  3.  2.  1.  0. 12.  3.  4.  2.  0.  0.  0. 15. 11.  2.  0.  3.  1.\n",
      "  32.  4.  2.  0.  2.  1.  8.  4.  2.  2.  3.  1.  5.  1.  1.  6.  1.  8.\n",
      "  14.  0.  1.  0.  0. 71.  0.  1.  0.  0.  5.  8.  0.  8.  2.  2.  2.  0.\n",
      "  11. 20.  0.  2.  0.  0.  1.  0.  1.]\n",
      " [ 1.  1. 18.  5.  6.  2.  2.  3.  1.  0.  0.  0.  1.  0.  0.  7.  0.  0.\n",
      "   4.  5.  0.  0. 13.  0.  2. 16.  0.  0.  0.  4.  0.  0.  6.  0.  0.  0.\n",
      "   3.  5.  3.  1.  2.  2.  7.  5.  1.  3.  2.  0.  1.  2.  2.  0. 12.  0.\n",
      "  27. 17.  1.  2.  5.  0.  2.  9.  3.  2.  0.  1. 19.  9.  3.  0.  1.  0.\n",
      "   0.  1.  1.  0.  2. 96.  0.  0.  0.  9.  0.  3.  2.  5.  8.  0.  3.  1.\n",
      "   7.  3.  1.  4.  0.  0.  2.  0.  3.]\n",
      " [ 0.  3.  5.  9.  2.  5.  3.  0.  0.  4. 10.  0.  7.  8.  1.  0.  0.  1.\n",
      "   3.  3.  1.  0. 15.  0.  3.  1.  0.  0.  1.  0.  0.  0.  0.  0.  0.  7.\n",
      "   0.  4.  1. 10.  5. 17.  2.  2.  0.  0.  1.  0.  0. 17.  1.  0. 17.  0.\n",
      "  18.  8.  8.  1.  7.  2.  6.  5.  3.  0.  6.  0.  4.  2.  0.  0.  0. 10.\n",
      "   8.  7.  1.  1.  0. 26.  2.  0.  0.  3.  0.  0.  2.  7.  0.  2.  1.  1.\n",
      "   1.  2.  0.  1.  1.  0.  1.  0.  1.]\n",
      " [ 1.  0.  2.  4.  0.  6.  8.  6. 16.  9.  0.  2.  4.  1.  0.  1.  0.  2.\n",
      "   6.  4.  0.  0.  3.  0.  2.  1.  0.  0.  0.  1.  0.  2.  3.  0.  0.  1.\n",
      "   1.  0.  1. 10.  3.  1.  3. 16.  1.  6.  0.  0.  2.  2.  0.  1.  5.  1.\n",
      "  11.  6.  8.  1.  1.  1.  3.  0.  0.  3. 16.  0. 27. 17.  1.  6.  0.  1.\n",
      "   6.  0.  1.  0.  2. 61.  4.  3.  0. 16.  0.  1.  1.  3. 16.  1.  2.  4.\n",
      "   6. 14.  2. 13.  0.  8.  2.  2.  4.]\n",
      " [ 5.  4.  7.  2.  0.  0.  5.  1.  1.  7.  2. 19.  2.  2.  0.  2.  0.  2.\n",
      "  10.  2.  1.  0. 14.  3.  8.  5.  0.  0.  2.  1.  0.  3.  0.  1.  0.  4.\n",
      "  17.  6.  1.  0.  0.  9. 18.  9.  1.  0. 13.  0. 26.  0.  8.  0. 24.  9.\n",
      "  16.  7.  6.  2.  0.  2.  4.  4.  2.  0.  3.  2.  2.  4.  4.  2.  0.  3.\n",
      "  15.  0.  0.  1.  0. 16. 14.  0.  0.  0.  1.  0.  0. 12. 11.  0. 16.  0.\n",
      "   3.  2.  0.  1.  5.  0.  1.  1.  1.]\n",
      " [ 3.  3.  2.  2.  1.  1.  0.  3.  1.  8.  2.  6.  2.  7.  2.  2.  0.  1.\n",
      "   2.  2.  2.  0. 20.  0.  0.  0.  0.  0.  0.  1.  0.  0.  4.  3.  0.  0.\n",
      "   1. 10.  3. 12.  0.  5.  1.  5.  4.  1.  1.  0.  9.  2.  0.  0.  3.  0.\n",
      "   2. 15.  0.  1.  0.  1.  4.  2.  2.  1.  5.  1.  6.  0.  4.  0.  1.  2.\n",
      "   7.  0. 13.  0.  1. 41.  6.  1.  0.  3.  9.  0.  0. 26. 10.  5.  8.  0.\n",
      "   2.  0.  7.  3.  1.  0.  3.  3.  3.]\n",
      " [ 4.  1.  0.  9.  0.  2.  1.  6.  1.  0. 13.  0.  2.  1.  0.  3.  2.  9.\n",
      "  10.  6.  0.  0. 31.  0.  0.  0.  0.  0.  0.  5.  0.  1.  2.  0.  0.  6.\n",
      "   7.  9.  1. 16. 13.  1.  0.  1.  0.  3.  2.  0.  0.  2.  3.  1. 18.  0.\n",
      "  19.  5. 12.  1.  3.  1.  0.  1.  5.  3. 39.  4.  2.  0.  0.  0.  0. 13.\n",
      "  12.  1.  3.  0.  3. 36. 20.  0.  0.  6.  6.  1.  0.  1.  1.  0.  0.  0.\n",
      "   2.  1.  0.  0.  0.  9.  0.  1.  6.]\n",
      " [ 2.  2.  0.  0.  2.  0.  1.  2.  4.  1.  0.  3.  0.  1.  0.  0.  0.  1.\n",
      "   0.  0.  0.  0.  6.  2.  0.  5.  0.  0.  0.  7.  0.  9.  4.  1.  0.  0.\n",
      "   3.  2.  2.  4.  2.  5.  8.  9.  1.  2.  0.  1.  6.  0.  2.  0.  4.  2.\n",
      "   0.  7.  4.  0.  5.  0.  8.  0.  0.  0.  1.  1.  7.  0.  1.  2.  1.  0.\n",
      "   2.  4.  1.  0.  0. 21.  7.  0.  0.  1.  1.  0.  0.  1.  2.  7.  8.  1.\n",
      "   0.  2.  2. 14.  1.  3.  1.  2.  5.]\n",
      " [ 7.  4.  5.  3.  2.  0.  1. 10.  9.  1.  8.  1.  2.  1.  6.  1.  0.  5.\n",
      "   0. 14.  0.  0.  3.  3.  6. 12.  0.  0.  0.  6.  0.  2.  5.  2.  0.  1.\n",
      "   1.  6.  2. 10.  2.  3.  2.  0.  4.  0.  0.  0.  2. 10.  0.  0.  8.  1.\n",
      "  43.  2. 10.  3.  2.  0.  9.  1.  2.  1.  6.  2. 26.  0.  1.  1.  0. 14.\n",
      "   2.  3.  7.  3.  1.  6.  6.  3.  0.  5.  4.  1.  0.  4.  1.  4.  8.  0.\n",
      "   3.  0.  3.  2.  0.  0.  4.  3.  3.]]\n"
     ]
    }
   ],
   "source": [
    "SIG = MinHashing(hashed_shingle_sets)\n",
    "#print(SIG)"
   ]
  },
  {
   "cell_type": "code",
   "execution_count": 19,
   "id": "9fe6e2b8-5780-4329-8c50-53d851effafc",
   "metadata": {},
   "outputs": [],
   "source": [
    "\"\"\"\n",
    "Estimating the Jaccard similarity between two sets of integers:\n",
    "  * the probability that two columns have the same value in a given row of\n",
    "    the signature matrix equals the Jaccard similarity of the sets corresponding to\n",
    "    those columns\n",
    "  * the expected number of rows in\n",
    "    which two columns agree equals the Jaccard similarity of their corresponding\n",
    "    sets\n",
    "\"\"\"\n",
    "def CompareSignatures(sig_1, sig_2, n):\n",
    "    similarity = len(np.intersect1d(sig_1, sig_2))/n"
   ]
  },
  {
   "cell_type": "code",
   "execution_count": 20,
   "id": "5f697b62-fa83-4399-a50e-3e36ce2f45c7",
   "metadata": {},
   "outputs": [
    {
     "name": "stdout",
     "output_type": "stream",
     "text": [
      "(10, 99)\n",
      "similarity: None\n"
     ]
    }
   ],
   "source": [
    "print(SIG.shape)\n",
    "sig_1 = SIG[:,30]\n",
    "sig_2 = SIG[:,60]\n",
    "n = 10\n",
    "similarity = CompareSignatures(sig_1, sig_2, n)\n",
    "print(f\"similarity: {similarity}\")"
   ]
  }
 ],
 "metadata": {
  "kernelspec": {
   "display_name": "Python 3 (ipykernel)",
   "language": "python",
   "name": "python3"
  },
  "language_info": {
   "codemirror_mode": {
    "name": "ipython",
    "version": 3
   },
   "file_extension": ".py",
   "mimetype": "text/x-python",
   "name": "python",
   "nbconvert_exporter": "python",
   "pygments_lexer": "ipython3",
   "version": "3.12.6"
  }
 },
 "nbformat": 4,
 "nbformat_minor": 5
}
