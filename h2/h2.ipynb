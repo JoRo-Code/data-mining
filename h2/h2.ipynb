{
 "cells": [
  {
   "cell_type": "markdown",
   "metadata": {},
   "source": [
    "# Discovery of Frequent Itemsets and Association Rules\n",
    "\n",
    "1. Frequent itemsets with support s\n",
    "2. Association Rules with confidence c"
   ]
  },
  {
   "cell_type": "markdown",
   "metadata": {},
   "source": [
    "\n",
    "A priori:\n",
    "C1\n",
    "    - read transactions and get counts\n",
    "L1\n",
    "    - filter candidates with support s\n",
    "\n",
    "CK\n",
    "    - generate candidates CK out of L(k-1), with monotonicity support s,\n",
    "    - read transactions and get counts\n",
    "LK\n",
    "- filter candidates LK with support s\n",
    "\n",
    "\n",
    "\n",
    "Keep in mind\n",
    "- if the files are very large and can't be fit into memory, then these files should be split. With a dataloader"
   ]
  },
  {
   "cell_type": "code",
   "execution_count": 11,
   "metadata": {},
   "outputs": [
    {
     "name": "stdout",
     "output_type": "stream",
     "text": [
      "Number of transactions: 100000\n",
      "First few transactions: [{448, 834, 164, 775, 328, 687, 240, 368, 274, 561, 52, 630, 825, 25, 538, 730}, {704, 834, 581, 39, 205, 814, 401, 120, 825, 124}, {674, 35, 712, 854, 759, 950, 249, 733}]\n",
      "Total unique items: 870\n"
     ]
    }
   ],
   "source": [
    "def load_transactions(filepath):\n",
    "    transactions = []\n",
    "    \n",
    "    with open(filepath, 'r') as f:\n",
    "        for line in f:\n",
    "            # Convert each line to a set of integers\n",
    "            transaction = set(map(int, line.strip().split()))\n",
    "            transactions.append(transaction)\n",
    "    \n",
    "    return transactions\n",
    "\n",
    "# Example usage:\n",
    "transactions = load_transactions('data/T10I4D100K.dat')\n",
    "print(f\"Number of transactions: {len(transactions)}\")\n",
    "print(f\"First few transactions: {transactions[:3]}\")\n",
    "\n",
    "# If you need to know the item universe:\n",
    "all_items = set().union(*transactions)\n",
    "print(f\"Total unique items: {len(all_items)}\")"
   ]
  },
  {
   "cell_type": "markdown",
   "metadata": {},
   "source": [
    "# A Priori algorithm\n",
    "\n",
    "the idea is to incrementally build larger itemsets by combining frequently occuring smaller subsets.\n",
    "\n",
    "\n",
    "### Frequent singletons:\n",
    "\n",
    "    1. find singletons\n",
    "    2. c1 <- count singletons\n",
    "    3. l1 <- filter frequent c1\n",
    "\n",
    "### Frequent 2-itemsets\n",
    "\n",
    "    1. candidates <- combine singletons to 2-itemsets\n",
    "    2. c2 <- count candidates\n",
    "    3. l2 <- filter c2\n",
    "\n",
    "### Frequent k-itemsets\n",
    "    1. candidates <- combine singletons with k-1 item sets\n",
    "    2. ensure frequent subsets - they occur in all frequently filtered candidates L (consisting of each lk)\n",
    "    3. ck <- count candidates\n",
    "    4. lk <- filter ck\n",
    "\n",
    "\n",
    "\n",
    "    \n",
    "\n",
    "\n"
   ]
  },
  {
   "cell_type": "code",
   "execution_count": 31,
   "metadata": {},
   "outputs": [],
   "source": [
    "from tqdm import tqdm\n",
    "\n",
    "def A_priori(transactions, s, max_k=3):\n",
    "    # get counts for singletons (k=1)\n",
    "    c1 = {frozenset([item]): 0 for item in all_items}\n",
    "    for transaction in transactions:\n",
    "        for item in transaction:\n",
    "            c1[frozenset([item])] += 1\n",
    "    \n",
    "    # filter singletons with support s  \n",
    "    l1 = {itemset for itemset, count in c1.items() if count >= s}\n",
    "    \n",
    "    # initialize result with L1\n",
    "    L = [l1]\n",
    "    C = [c1]\n",
    "    \n",
    "    print(f\"C1: {len(c1)} - {c1}\")\n",
    "    print(f\"L1: {len(l1)} - {l1}\")\n",
    "    \n",
    "    # iterate for k=2 to max_k\n",
    "    for k in range(2, max_k + 1):\n",
    "        # generate candidates from previous frequent itemsets\n",
    "        ck = {}\n",
    "        prev_l = L[k-2]\n",
    "        \n",
    "        # generate candidates by combining previous frequent itemsets\n",
    "        for itemset1 in prev_l:\n",
    "            for singleton in l1:\n",
    "                union = itemset1.union(singleton)\n",
    "                if len(union) == k:\n",
    "                    \n",
    "                    # subset frequency check\n",
    "                    all_subsets_frequent = True\n",
    "                    for item in union:\n",
    "                        subset = frozenset(union - {item})\n",
    "                        if subset not in prev_l:\n",
    "                            all_subsets_frequent = False\n",
    "                            break\n",
    "                    \n",
    "                    if all_subsets_frequent:\n",
    "                        ck[union] = 0\n",
    "        \n",
    "        print(f\"C{k} candidates: {len(ck)} - {ck}\")\n",
    " \n",
    "        # count occurrences of candidates\n",
    "        for transaction in tqdm(transactions):\n",
    "            transaction_set = frozenset(transaction)\n",
    "            for candidate in ck:\n",
    "                if candidate.issubset(transaction_set):\n",
    "                    ck[candidate] += 1\n",
    "        \n",
    "        print(f\"C{k} counts: {len(ck)} - {ck}\")\n",
    "        C.append(ck)\n",
    "        \n",
    "        # filter candidates with minimum support\n",
    "        lk = {itemset for itemset, count in ck.items() if count >= s}\n",
    "        \n",
    "        print(f\"L{k}: {len(lk)} - {lk}\")\n",
    "        \n",
    "        # if no frequent itemsets found, break\n",
    "        if not lk:\n",
    "            break\n",
    "        L.append(lk)\n",
    "            \n",
    "    \n",
    "    return L, C\n",
    "\n"
   ]
  },
  {
   "cell_type": "code",
   "execution_count": 43,
   "metadata": {},
   "outputs": [
    {
     "name": "stdout",
     "output_type": "stream",
     "text": [
      "s: 6000.0\n",
      "C1: 870 - {frozenset({0}): 594, frozenset({1}): 1535, frozenset({2}): 673, frozenset({3}): 531, frozenset({4}): 1394, frozenset({5}): 1094, frozenset({6}): 2149, frozenset({7}): 997, frozenset({8}): 3090, frozenset({10}): 1351, frozenset({11}): 525, frozenset({12}): 3415, frozenset({13}): 35, frozenset({14}): 197, frozenset({15}): 458, frozenset({16}): 150, frozenset({17}): 1683, frozenset({18}): 813, frozenset({19}): 121, frozenset({20}): 40, frozenset({21}): 2666, frozenset({22}): 397, frozenset({23}): 128, frozenset({24}): 191, frozenset({25}): 1395, frozenset({26}): 527, frozenset({27}): 2165, frozenset({28}): 1454, frozenset({29}): 171, frozenset({31}): 1666, frozenset({32}): 4248, frozenset({33}): 1460, frozenset({34}): 56, frozenset({35}): 1984, frozenset({36}): 528, frozenset({37}): 1249, frozenset({38}): 2402, frozenset({39}): 4258, frozenset({40}): 457, frozenset({41}): 1353, frozenset({42}): 119, frozenset({43}): 1721, frozenset({44}): 903, frozenset({45}): 1728, frozenset({46}): 543, frozenset({47}): 175, frozenset({48}): 2472, frozenset({49}): 137, frozenset({51}): 1612, frozenset({52}): 1983, frozenset({53}): 535, frozenset({54}): 2595, frozenset({55}): 1959, frozenset({56}): 114, frozenset({57}): 2743, frozenset({58}): 1330, frozenset({59}): 312, frozenset({62}): 110, frozenset({64}): 319, frozenset({66}): 888, frozenset({67}): 316, frozenset({68}): 1601, frozenset({69}): 2370, frozenset({70}): 2411, frozenset({71}): 3507, frozenset({72}): 2852, frozenset({73}): 2179, frozenset({74}): 58, frozenset({75}): 3151, frozenset({78}): 2471, frozenset({80}): 826, frozenset({81}): 270, frozenset({82}): 674, frozenset({83}): 181, frozenset({85}): 1555, frozenset({86}): 229, frozenset({88}): 303, frozenset({89}): 211, frozenset({90}): 1875, frozenset({91}): 116, frozenset({93}): 2777, frozenset({94}): 1201, frozenset({95}): 841, frozenset({96}): 975, frozenset({97}): 1466, frozenset({98}): 486, frozenset({100}): 1749, frozenset({101}): 329, frozenset({102}): 109, frozenset({103}): 327, frozenset({104}): 1158, frozenset({105}): 1100, frozenset({108}): 940, frozenset({110}): 1801, frozenset({111}): 1171, frozenset({112}): 2680, frozenset({113}): 394, frozenset({114}): 816, frozenset({115}): 1775, frozenset({116}): 2193, frozenset({117}): 731, frozenset({118}): 916, frozenset({120}): 4973, frozenset({121}): 17, frozenset({122}): 1081, frozenset({123}): 28, frozenset({124}): 294, frozenset({125}): 1287, frozenset({126}): 1075, frozenset({127}): 492, frozenset({128}): 525, frozenset({129}): 1547, frozenset({130}): 1711, frozenset({131}): 327, frozenset({132}): 2641, frozenset({135}): 82, frozenset({136}): 707, frozenset({137}): 48, frozenset({138}): 257, frozenset({139}): 671, frozenset({140}): 2687, frozenset({141}): 460, frozenset({142}): 454, frozenset({143}): 1417, frozenset({144}): 505, frozenset({145}): 4559, frozenset({146}): 113, frozenset({147}): 1383, frozenset({150}): 410, frozenset({151}): 2611, frozenset({152}): 67, frozenset({153}): 99, frozenset({154}): 1447, frozenset({155}): 697, frozenset({156}): 572, frozenset({157}): 1140, frozenset({158}): 884, frozenset({159}): 542, frozenset({160}): 987, frozenset({161}): 2320, frozenset({162}): 1450, frozenset({163}): 1256, frozenset({164}): 744, frozenset({165}): 286, frozenset({166}): 346, frozenset({167}): 625, frozenset({168}): 1538, frozenset({169}): 35, frozenset({170}): 1203, frozenset({171}): 1097, frozenset({172}): 663, frozenset({173}): 1080, frozenset({174}): 579, frozenset({175}): 2791, frozenset({176}): 582, frozenset({177}): 4629, frozenset({178}): 654, frozenset({179}): 237, frozenset({180}): 424, frozenset({181}): 1235, frozenset({182}): 284, frozenset({183}): 3883, frozenset({185}): 1529, frozenset({186}): 348, frozenset({187}): 759, frozenset({188}): 650, frozenset({189}): 39, frozenset({190}): 531, frozenset({191}): 111, frozenset({192}): 2004, frozenset({193}): 925, frozenset({194}): 517, frozenset({196}): 2096, frozenset({197}): 1230, frozenset({198}): 1461, frozenset({199}): 109, frozenset({201}): 1029, frozenset({202}): 56, frozenset({203}): 861, frozenset({204}): 2174, frozenset({205}): 3605, frozenset({206}): 272, frozenset({207}): 1214, frozenset({208}): 1483, frozenset({209}): 418, frozenset({210}): 2009, frozenset({212}): 778, frozenset({213}): 522, frozenset({214}): 1893, frozenset({215}): 781, frozenset({216}): 525, frozenset({217}): 5375, frozenset({218}): 317, frozenset({220}): 717, frozenset({222}): 126, frozenset({224}): 919, frozenset({225}): 371, frozenset({226}): 658, frozenset({227}): 1818, frozenset({228}): 118, frozenset({229}): 2281, frozenset({230}): 288, frozenset({231}): 442, frozenset({234}): 1416, frozenset({236}): 2618, frozenset({237}): 98, frozenset({239}): 2742, frozenset({240}): 1399, frozenset({241}): 784, frozenset({242}): 2325, frozenset({244}): 96, frozenset({245}): 6, frozenset({246}): 183, frozenset({247}): 181, frozenset({248}): 79, frozenset({249}): 615, frozenset({252}): 781, frozenset({254}): 94, frozenset({255}): 185, frozenset({256}): 785, frozenset({257}): 132, frozenset({258}): 1036, frozenset({259}): 1522, frozenset({261}): 362, frozenset({262}): 660, frozenset({263}): 654, frozenset({264}): 297, frozenset({265}): 1359, frozenset({266}): 1022, frozenset({267}): 223, frozenset({268}): 885, frozenset({269}): 145, frozenset({270}): 416, frozenset({272}): 659, frozenset({273}): 98, frozenset({274}): 2628, frozenset({275}): 1692, frozenset({276}): 2479, frozenset({277}): 982, frozenset({278}): 657, frozenset({279}): 3014, frozenset({280}): 2108, frozenset({281}): 437, frozenset({282}): 16, frozenset({283}): 4082, frozenset({285}): 2600, frozenset({286}): 199, frozenset({287}): 54, frozenset({289}): 346, frozenset({290}): 1793, frozenset({292}): 71, frozenset({293}): 61, frozenset({294}): 1445, frozenset({295}): 712, frozenset({296}): 2210, frozenset({297}): 28, frozenset({298}): 778, frozenset({299}): 522, frozenset({300}): 582, frozenset({301}): 309, frozenset({303}): 257, frozenset({304}): 805, frozenset({305}): 210, frozenset({306}): 247, frozenset({307}): 702, frozenset({308}): 1402, frozenset({309}): 1262, frozenset({310}): 1390, frozenset({311}): 437, frozenset({313}): 224, frozenset({314}): 846, frozenset({315}): 533, frozenset({316}): 578, frozenset({317}): 266, frozenset({318}): 812, frozenset({319}): 1371, frozenset({320}): 540, frozenset({321}): 676, frozenset({322}): 1154, frozenset({324}): 173, frozenset({325}): 1022, frozenset({326}): 1488, frozenset({327}): 662, frozenset({328}): 663, frozenset({329}): 964, frozenset({330}): 102, frozenset({331}): 270, frozenset({332}): 1861, frozenset({333}): 483, frozenset({334}): 2146, frozenset({335}): 1345, frozenset({336}): 1071, frozenset({338}): 234, frozenset({339}): 695, frozenset({342}): 424, frozenset({343}): 1599, frozenset({345}): 801, frozenset({346}): 3470, frozenset({347}): 885, frozenset({348}): 1226, frozenset({349}): 2041, frozenset({350}): 3069, frozenset({351}): 1641, frozenset({352}): 902, frozenset({354}): 5835, frozenset({355}): 958, frozenset({356}): 96, frozenset({357}): 1142, frozenset({358}): 365, frozenset({360}): 15, frozenset({361}): 1104, frozenset({362}): 4388, frozenset({363}): 47, frozenset({364}): 567, frozenset({366}): 1031, frozenset({367}): 158, frozenset({368}): 7828, frozenset({369}): 592, frozenset({370}): 386, frozenset({371}): 405, frozenset({372}): 172, frozenset({373}): 2007, frozenset({374}): 490, frozenset({375}): 417, frozenset({376}): 362, frozenset({377}): 1149, frozenset({378}): 1149, frozenset({379}): 390, frozenset({381}): 2959, frozenset({382}): 55, frozenset({383}): 668, frozenset({384}): 406, frozenset({385}): 1676, frozenset({387}): 2089, frozenset({388}): 938, frozenset({390}): 2685, frozenset({391}): 114, frozenset({392}): 2420, frozenset({394}): 1145, frozenset({395}): 990, frozenset({396}): 442, frozenset({397}): 479, frozenset({398}): 403, frozenset({399}): 82, frozenset({400}): 478, frozenset({401}): 3667, frozenset({402}): 302, frozenset({403}): 1722, frozenset({405}): 1525, frozenset({406}): 785, frozenset({407}): 634, frozenset({408}): 607, frozenset({409}): 651, frozenset({411}): 2047, frozenset({412}): 517, frozenset({413}): 2637, frozenset({414}): 1160, frozenset({415}): 877, frozenset({417}): 971, frozenset({418}): 55, frozenset({419}): 5057, frozenset({421}): 656, frozenset({422}): 1255, frozenset({423}): 1412, frozenset({424}): 1448, frozenset({426}): 111, frozenset({427}): 1856, frozenset({428}): 1021, frozenset({429}): 1037, frozenset({430}): 580, frozenset({431}): 27, frozenset({432}): 985, frozenset({435}): 357, frozenset({436}): 589, frozenset({437}): 314, frozenset({438}): 4511, frozenset({439}): 225, frozenset({440}): 1943, frozenset({441}): 96, frozenset({442}): 326, frozenset({443}): 405, frozenset({444}): 260, frozenset({447}): 863, frozenset({448}): 1370, frozenset({449}): 1890, frozenset({450}): 2082, frozenset({451}): 76, frozenset({452}): 205, frozenset({453}): 433, frozenset({454}): 22, frozenset({455}): 453, frozenset({456}): 804, frozenset({458}): 1124, frozenset({459}): 465, frozenset({460}): 4438, frozenset({461}): 1498, frozenset({462}): 155, frozenset({464}): 848, frozenset({465}): 35, frozenset({466}): 212, frozenset({467}): 742, frozenset({468}): 1089, frozenset({469}): 1502, frozenset({470}): 4137, frozenset({471}): 2894, frozenset({472}): 2125, frozenset({473}): 33, frozenset({474}): 815, frozenset({475}): 663, frozenset({476}): 133, frozenset({477}): 2462, frozenset({478}): 522, frozenset({479}): 34, frozenset({480}): 2309, frozenset({481}): 888, frozenset({482}): 299, frozenset({483}): 439, frozenset({484}): 971, frozenset({485}): 452, frozenset({486}): 1547, frozenset({487}): 3135, frozenset({489}): 3420, frozenset({490}): 1066, frozenset({491}): 77, frozenset({492}): 665, frozenset({493}): 583, frozenset({494}): 5102, frozenset({495}): 64, frozenset({496}): 1428, frozenset({498}): 325, frozenset({499}): 743, frozenset({500}): 1444, frozenset({501}): 118, frozenset({502}): 13, frozenset({503}): 80, frozenset({504}): 1296, frozenset({505}): 791, frozenset({507}): 950, frozenset({508}): 95, frozenset({509}): 3044, frozenset({510}): 3281, frozenset({511}): 1015, frozenset({512}): 611, frozenset({513}): 1287, frozenset({514}): 442, frozenset({515}): 1166, frozenset({516}): 1544, frozenset({517}): 1201, frozenset({518}): 759, frozenset({520}): 472, frozenset({521}): 1582, frozenset({522}): 2725, frozenset({523}): 2244, frozenset({524}): 427, frozenset({525}): 609, frozenset({526}): 2793, frozenset({527}): 1185, frozenset({528}): 576, frozenset({529}): 7057, frozenset({530}): 1263, frozenset({531}): 447, frozenset({532}): 54, frozenset({533}): 772, frozenset({534}): 1531, frozenset({535}): 294, frozenset({536}): 372, frozenset({537}): 331, frozenset({538}): 3982, frozenset({539}): 376, frozenset({540}): 1293, frozenset({541}): 3735, frozenset({544}): 773, frozenset({545}): 119, frozenset({546}): 1050, frozenset({548}): 2843, frozenset({550}): 1203, frozenset({551}): 67, frozenset({552}): 61, frozenset({553}): 383, frozenset({554}): 1114, frozenset({556}): 240, frozenset({557}): 587, frozenset({558}): 957, frozenset({560}): 382, frozenset({561}): 2783, frozenset({562}): 462, frozenset({563}): 1065, frozenset({564}): 11, frozenset({565}): 640, frozenset({567}): 1102, frozenset({568}): 956, frozenset({569}): 2835, frozenset({571}): 2902, frozenset({572}): 1589, frozenset({573}): 1229, frozenset({574}): 1297, frozenset({575}): 240, frozenset({576}): 1337, frozenset({577}): 1695, frozenset({578}): 1290, frozenset({579}): 2164, frozenset({580}): 1667, frozenset({581}): 2943, frozenset({582}): 61, frozenset({583}): 1389, frozenset({585}): 856, frozenset({588}): 389, frozenset({589}): 214, frozenset({590}): 814, frozenset({591}): 1241, frozenset({592}): 239, frozenset({593}): 2601, frozenset({594}): 1516, frozenset({595}): 797, frozenset({596}): 269, frozenset({597}): 2883, frozenset({598}): 3219, frozenset({600}): 1192, frozenset({601}): 299, frozenset({602}): 463, frozenset({603}): 458, frozenset({604}): 448, frozenset({605}): 1652, frozenset({606}): 2668, frozenset({608}): 999, frozenset({609}): 184, frozenset({610}): 464, frozenset({611}): 1444, frozenset({612}): 396, frozenset({613}): 373, frozenset({614}): 3134, frozenset({615}): 1, frozenset({616}): 568, frozenset({617}): 2614, frozenset({618}): 1337, frozenset({619}): 6, frozenset({620}): 2100, frozenset({622}): 826, frozenset({623}): 1845, frozenset({624}): 915, frozenset({626}): 874, frozenset({627}): 292, frozenset({628}): 1102, frozenset({629}): 893, frozenset({630}): 1523, frozenset({631}): 2793, frozenset({632}): 1070, frozenset({633}): 780, frozenset({634}): 2492, frozenset({635}): 136, frozenset({637}): 45, frozenset({638}): 2288, frozenset({639}): 1572, frozenset({640}): 932, frozenset({641}): 1494, frozenset({642}): 830, frozenset({643}): 63, frozenset({644}): 197, frozenset({645}): 581, frozenset({647}): 551, frozenset({648}): 653, frozenset({649}): 1292, frozenset({650}): 281, frozenset({651}): 1288, frozenset({652}): 354, frozenset({653}): 2634, frozenset({655}): 467, frozenset({656}): 154, frozenset({657}): 506, frozenset({658}): 1881, frozenset({659}): 835, frozenset({660}): 610, frozenset({661}): 2693, frozenset({662}): 114, frozenset({663}): 2354, frozenset({665}): 1297, frozenset({666}): 363, frozenset({670}): 243, frozenset({671}): 433, frozenset({672}): 743, frozenset({673}): 1635, frozenset({674}): 2527, frozenset({675}): 2976, frozenset({676}): 2717, frozenset({677}): 407, frozenset({678}): 1329, frozenset({679}): 248, frozenset({680}): 236, frozenset({681}): 344, frozenset({682}): 4132, frozenset({683}): 85, frozenset({684}): 5408, frozenset({685}): 392, frozenset({686}): 1495, frozenset({687}): 1762, frozenset({688}): 1132, frozenset({689}): 817, frozenset({690}): 778, frozenset({691}): 421, frozenset({692}): 4993, frozenset({693}): 387, frozenset({694}): 2847, frozenset({695}): 394, frozenset({696}): 313, frozenset({697}): 370, frozenset({698}): 236, frozenset({699}): 353, frozenset({701}): 1283, frozenset({702}): 137, frozenset({703}): 546, frozenset({704}): 1794, frozenset({705}): 888, frozenset({706}): 1923, frozenset({707}): 1354, frozenset({708}): 1090, frozenset({709}): 672, frozenset({710}): 1044, frozenset({711}): 714, frozenset({712}): 845, frozenset({713}): 716, frozenset({714}): 347, frozenset({715}): 381, frozenset({716}): 1199, frozenset({718}): 1238, frozenset({719}): 663, frozenset({720}): 3864, frozenset({721}): 442, frozenset({722}): 5845, frozenset({723}): 829, frozenset({724}): 86, frozenset({725}): 17, frozenset({726}): 32, frozenset({729}): 102, frozenset({730}): 602, frozenset({731}): 560, frozenset({732}): 799, frozenset({733}): 1141, frozenset({734}): 217, frozenset({735}): 1689, frozenset({736}): 1470, frozenset({738}): 2129, frozenset({739}): 55, frozenset({740}): 1632, frozenset({741}): 98, frozenset({742}): 953, frozenset({743}): 194, frozenset({744}): 2177, frozenset({745}): 909, frozenset({746}): 1982, frozenset({749}): 1330, frozenset({750}): 446, frozenset({751}): 397, frozenset({752}): 2578, frozenset({753}): 578, frozenset({755}): 392, frozenset({757}): 245, frozenset({758}): 2860, frozenset({759}): 788, frozenset({760}): 698, frozenset({762}): 792, frozenset({763}): 1862, frozenset({764}): 425, frozenset({765}): 1705, frozenset({766}): 6265, frozenset({767}): 47, frozenset({768}): 12, frozenset({769}): 1622, frozenset({771}): 505, frozenset({773}): 192, frozenset({774}): 2046, frozenset({775}): 3771, frozenset({776}): 78, frozenset({777}): 464, frozenset({778}): 2514, frozenset({779}): 280, frozenset({780}): 2306, frozenset({781}): 419, frozenset({782}): 2767, frozenset({783}): 468, frozenset({784}): 1257, frozenset({785}): 947, frozenset({787}): 90, frozenset({788}): 2386, frozenset({789}): 4309, frozenset({790}): 1094, frozenset({792}): 1306, frozenset({793}): 3063, frozenset({794}): 624, frozenset({795}): 3361, frozenset({797}): 2684, frozenset({798}): 3103, frozenset({799}): 274, frozenset({800}): 1916, frozenset({801}): 835, frozenset({802}): 188, frozenset({803}): 2237, frozenset({804}): 1315, frozenset({805}): 1789, frozenset({806}): 308, frozenset({807}): 305, frozenset({809}): 2163, frozenset({810}): 1267, frozenset({811}): 358, frozenset({812}): 1518, frozenset({813}): 422, frozenset({814}): 1672, frozenset({815}): 1358, frozenset({817}): 360, frozenset({818}): 323, frozenset({819}): 1257, frozenset({820}): 1473, frozenset({821}): 179, frozenset({822}): 356, frozenset({823}): 1031, frozenset({824}): 565, frozenset({825}): 3085, frozenset({826}): 2022, frozenset({827}): 130, frozenset({828}): 542, frozenset({829}): 6810, frozenset({830}): 841, frozenset({831}): 852, frozenset({832}): 2062, frozenset({833}): 629, frozenset({834}): 1373, frozenset({835}): 732, frozenset({837}): 619, frozenset({838}): 953, frozenset({839}): 854, frozenset({840}): 446, frozenset({841}): 1927, frozenset({842}): 752, frozenset({843}): 1222, frozenset({844}): 2814, frozenset({845}): 585, frozenset({846}): 1480, frozenset({847}): 179, frozenset({849}): 459, frozenset({850}): 12, frozenset({851}): 577, frozenset({852}): 538, frozenset({853}): 1804, frozenset({854}): 2847, frozenset({855}): 939, frozenset({856}): 109, frozenset({857}): 1588, frozenset({858}): 866, frozenset({859}): 1242, frozenset({860}): 1255, frozenset({862}): 3649, frozenset({864}): 295, frozenset({865}): 396, frozenset({866}): 266, frozenset({867}): 1530, frozenset({868}): 510, frozenset({869}): 92, frozenset({870}): 22, frozenset({871}): 2810, frozenset({872}): 122, frozenset({874}): 2237, frozenset({876}): 496, frozenset({877}): 22, frozenset({878}): 2047, frozenset({879}): 865, frozenset({880}): 81, frozenset({881}): 283, frozenset({882}): 347, frozenset({883}): 4902, frozenset({884}): 1645, frozenset({885}): 3043, frozenset({886}): 3053, frozenset({887}): 1671, frozenset({888}): 3686, frozenset({889}): 318, frozenset({890}): 1437, frozenset({891}): 151, frozenset({892}): 220, frozenset({893}): 1947, frozenset({894}): 407, frozenset({895}): 3385, frozenset({896}): 495, frozenset({897}): 1935, frozenset({898}): 318, frozenset({899}): 1252, frozenset({900}): 1165, frozenset({901}): 324, frozenset({902}): 222, frozenset({903}): 711, frozenset({904}): 400, frozenset({905}): 640, frozenset({906}): 1444, frozenset({909}): 525, frozenset({910}): 1695, frozenset({911}): 586, frozenset({912}): 1009, frozenset({913}): 1939, frozenset({914}): 4037, frozenset({915}): 241, frozenset({916}): 306, frozenset({917}): 72, frozenset({918}): 3012, frozenset({919}): 3710, frozenset({920}): 480, frozenset({921}): 2425, frozenset({922}): 990, frozenset({923}): 1753, frozenset({925}): 652, frozenset({926}): 672, frozenset({927}): 156, frozenset({928}): 1034, frozenset({930}): 318, frozenset({931}): 170, frozenset({932}): 1786, frozenset({933}): 523, frozenset({934}): 510, frozenset({935}): 1742, frozenset({936}): 337, frozenset({937}): 4681, frozenset({938}): 766, frozenset({939}): 342, frozenset({940}): 536, frozenset({941}): 1126, frozenset({942}): 436, frozenset({943}): 821, frozenset({944}): 2794, frozenset({945}): 536, frozenset({946}): 1350, frozenset({947}): 3690, frozenset({948}): 1149, frozenset({949}): 1414, frozenset({950}): 1463, frozenset({951}): 64, frozenset({952}): 1574, frozenset({953}): 525, frozenset({954}): 366, frozenset({956}): 3626, frozenset({958}): 426, frozenset({959}): 32, frozenset({960}): 2732, frozenset({961}): 474, frozenset({963}): 1327, frozenset({964}): 1518, frozenset({965}): 75, frozenset({966}): 3921, frozenset({967}): 1695, frozenset({969}): 849, frozenset({970}): 2086, frozenset({972}): 426, frozenset({973}): 512, frozenset({975}): 1764, frozenset({977}): 270, frozenset({978}): 1141, frozenset({979}): 132, frozenset({980}): 899, frozenset({981}): 1542, frozenset({982}): 1640, frozenset({983}): 453, frozenset({984}): 1756, frozenset({985}): 132, frozenset({986}): 54, frozenset({988}): 1164, frozenset({989}): 1289, frozenset({990}): 77, frozenset({991}): 1268, frozenset({992}): 1116, frozenset({994}): 33, frozenset({995}): 1521, frozenset({997}): 272, frozenset({998}): 2713, frozenset({999}): 193}\n",
      "L1: 4 - {frozenset({368}), frozenset({829}), frozenset({766}), frozenset({529})}\n",
      "C2 candidates: 6 - {frozenset({368, 829}): 0, frozenset({368, 766}): 0, frozenset({368, 529}): 0, frozenset({829, 766}): 0, frozenset({529, 829}): 0, frozenset({529, 766}): 0}\n"
     ]
    },
    {
     "name": "stderr",
     "output_type": "stream",
     "text": [
      "100%|██████████| 100000/100000 [00:00<00:00, 1578574.49it/s]"
     ]
    },
    {
     "name": "stdout",
     "output_type": "stream",
     "text": [
      "C2 counts: 6 - {frozenset({368, 829}): 1194, frozenset({368, 766}): 504, frozenset({368, 529}): 640, frozenset({829, 766}): 321, frozenset({529, 829}): 584, frozenset({529, 766}): 317}\n",
      "L2: 0 - set()\n"
     ]
    },
    {
     "name": "stderr",
     "output_type": "stream",
     "text": [
      "\n"
     ]
    }
   ],
   "source": [
    "s = 0.06*len(transactions)\n",
    "print(f\"s: {s}\")\n",
    "L, C = A_priori(transactions, s, 3)\n"
   ]
  },
  {
   "cell_type": "code",
   "execution_count": 44,
   "metadata": {},
   "outputs": [
    {
     "name": "stdout",
     "output_type": "stream",
     "text": [
      "[(frozenset({368, 829}), 1194), (frozenset({368, 529}), 640), (frozenset({529, 829}), 584), (frozenset({368, 766}), 504), (frozenset({829, 766}), 321), (frozenset({529, 766}), 317)]\n"
     ]
    }
   ],
   "source": [
    "c2 = sorted([(v,c) for v,c in C[1].items()], key=lambda x: x[1], reverse=True)\n",
    "print(c2)\n"
   ]
  },
  {
   "cell_type": "code",
   "execution_count": null,
   "metadata": {},
   "outputs": [],
   "source": []
  }
 ],
 "metadata": {
  "kernelspec": {
   "display_name": ".venv",
   "language": "python",
   "name": "python3"
  },
  "language_info": {
   "codemirror_mode": {
    "name": "ipython",
    "version": 3
   },
   "file_extension": ".py",
   "mimetype": "text/x-python",
   "name": "python",
   "nbconvert_exporter": "python",
   "pygments_lexer": "ipython3",
   "version": "3.12.6"
  }
 },
 "nbformat": 4,
 "nbformat_minor": 2
}
