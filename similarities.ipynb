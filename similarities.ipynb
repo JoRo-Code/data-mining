{
 "cells": [
  {
   "cell_type": "code",
   "execution_count": 98,
   "metadata": {},
   "outputs": [],
   "source": [
    "import os\n",
    "\n",
    "def read_documents(path):\n",
    "    documents = []\n",
    "    for file in os.listdir(path):\n",
    "        if file.endswith('.txt'):\n",
    "            with open(os.path.join(path, file), 'r') as f:\n",
    "                documents.append(f.read())\n",
    "    return documents\n",
    "    "
   ]
  },
  {
   "cell_type": "code",
   "execution_count": 99,
   "metadata": {},
   "outputs": [],
   "source": [
    "class Tokenizer:\n",
    "    def __init__(self):\n",
    "        self.vocabulary = {}\n",
    "    \n",
    "    def fit(self, documents):\n",
    "        for doc in documents:\n",
    "            doc = doc.lower()\n",
    "            for word in doc.split():\n",
    "                if word not in self.vocabulary:\n",
    "                    self.vocabulary[word] = len(self.vocabulary)\n",
    "        \n",
    "    def encode(self, text):\n",
    "        return [self.vocabulary[word.lower()] for word in text.split()]\n",
    "\n",
    "    def decode(self, tokens):\n",
    "        return ' '.join([self.vocabulary[token] for token in tokens])"
   ]
  },
  {
   "cell_type": "code",
   "execution_count": 100,
   "metadata": {},
   "outputs": [],
   "source": [
    "\n",
    "class Shingling:\n",
    "    def __init__(self):\n",
    "        self.shingles = set()\n",
    "        self.hashed_shingles = set()\n",
    "    \n",
    "    def create_shingles(self, text, k):\n",
    "        \"\"\"Create k-shingles from text and store their hashed values.\n",
    "        \n",
    "        Args:\n",
    "            text: List of tokens or string to create shingles from\n",
    "            k: Length of each shingle\n",
    "            \n",
    "        Returns:\n",
    "            Set of hashed k-shingles in sorted order\n",
    "        \"\"\"\n",
    "        # Create k-shingles as tuples\n",
    "        self.shingles = {tuple(text[i:i+k]) for i in range(len(text) - k + 1)}\n",
    "        \n",
    "        # Hash each shingle and store in sorted order\n",
    "        self.hashed_shingles = {hash(shingle) for shingle in self.shingles}\n",
    "        \n",
    "        return self.hashed_shingles\n",
    "\n"
   ]
  },
  {
   "cell_type": "code",
   "execution_count": 101,
   "metadata": {},
   "outputs": [],
   "source": [
    "class CompareSets:\n",
    "    def jaccard(self, a, b):\n",
    "        return len(a.intersection(b)) / len(a.union(b))\n",
    "\n"
   ]
  },
  {
   "cell_type": "code",
   "execution_count": 84,
   "metadata": {},
   "outputs": [],
   "source": [
    "from typing import List\n",
    "import numpy as np\n",
    "\n",
    "class MinHashing:\n",
    "    def __init__(self):\n",
    "        self.unique_shingles = set()\n",
    "        \n",
    "    def fit(self, sets:List[set]):\n",
    "        for set_ in sets:\n",
    "            self.unique_shingles.update(set_)\n",
    "\n",
    "    def characteristic_vector(self, shingles: set):\n",
    "        shingles_array = np.array(list(self.unique_shingles))\n",
    "        return np.isin(shingles_array, list(shingles)).astype(np.int8)\n",
    "        \n",
    "\n",
    "    def signature(self, n, shingles:set):\n",
    "        np.random.seed(n)\n",
    "        \n",
    "        permutations = np.array([np.random.permutation(len(self.unique_shingles)) for _ in range(n)])\n",
    "        characteristic_vector = self.characteristic_vector(shingles)\n",
    "        permuted_shingles = permutations * characteristic_vector\n",
    "        minhash = np.array([np.min(row[row != 0]) if np.any(row != 0) else 0 for row in permuted_shingles])\n",
    "        return minhash\n",
    "    "
   ]
  },
  {
   "cell_type": "code",
   "execution_count": 85,
   "metadata": {},
   "outputs": [],
   "source": [
    "class CompareSignatures:\n",
    "    def jaccard(self, a:np.array, b:np.array):\n",
    "        return np.mean(a == b)\n"
   ]
  },
  {
   "cell_type": "code",
   "execution_count": 97,
   "metadata": {},
   "outputs": [
    {
     "data": {
      "text/plain": [
       "[np.float64(1.0),\n",
       " np.float64(0.62),\n",
       " np.float64(0.0),\n",
       " np.float64(0.0),\n",
       " np.float64(0.0)]"
      ]
     },
     "execution_count": 97,
     "metadata": {},
     "output_type": "execute_result"
    }
   ],
   "source": [
    "docs = [\n",
    "    \"The cat in the hat comes back\",\n",
    "    \"The cat in the hat comes tomorrow\",\n",
    "    \"I will read this book\",\n",
    "    \"I will read this book again\",\n",
    "    \"This is a book\",\n",
    "]\n",
    "\n",
    "t = Tokenizer()\n",
    "t.fit(docs)\n",
    "\n",
    "s = Shingling()\n",
    "mh = MinHashing()\n",
    "\n",
    "shingled_docs = [s.create_shingles(t.encode(doc), 3) for doc in docs]\n",
    "mh.fit(shingled_docs)\n",
    "\n",
    "signatures = [(mh.signature(50, doc)) for doc in shingled_docs]\n",
    "\n",
    "c = CompareSignatures()\n",
    "\n",
    "[c.jaccard(signatures[0], signatures[i]) for i in range(len(signatures))]\n"
   ]
  }
 ],
 "metadata": {
  "kernelspec": {
   "display_name": "Python 3 (ipykernel)",
   "language": "python",
   "name": "python3"
  },
  "language_info": {
   "codemirror_mode": {
    "name": "ipython",
    "version": 3
   },
   "file_extension": ".py",
   "mimetype": "text/x-python",
   "name": "python",
   "nbconvert_exporter": "python",
   "pygments_lexer": "ipython3",
   "version": "3.12.6"
  }
 },
 "nbformat": 4,
 "nbformat_minor": 4
}
