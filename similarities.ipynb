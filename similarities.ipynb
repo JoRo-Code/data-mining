{
 "cells": [
  {
   "cell_type": "code",
   "execution_count": null,
   "metadata": {},
   "outputs": [],
   "source": [
    "import os\n",
    "import itertools\n",
    "import numpy as np"
   ]
  },
  {
   "cell_type": "code",
   "execution_count": 98,
   "metadata": {},
   "outputs": [],
   "source": [
    "def read_documents(path):\n",
    "    documents = []\n",
    "    for file in os.listdir(path):\n",
    "        if file.endswith('.txt'):\n",
    "            with open(os.path.join(path, file), 'r') as f:\n",
    "                documents.append(f.read())\n",
    "    return documents\n",
    "    "
   ]
  },
  {
   "cell_type": "code",
   "execution_count": 99,
   "metadata": {},
   "outputs": [],
   "source": [
    "class Tokenizer:\n",
    "    def __init__(self):\n",
    "        self.vocabulary = {}\n",
    "    \n",
    "    def fit(self, documents):\n",
    "        for doc in documents:\n",
    "            doc = doc.lower()\n",
    "            for word in doc.split():\n",
    "                if word not in self.vocabulary:\n",
    "                    self.vocabulary[word] = len(self.vocabulary)\n",
    "        \n",
    "    def encode(self, text):\n",
    "        return [self.vocabulary[word.lower()] for word in text.split()]\n",
    "\n",
    "    def decode(self, tokens):\n",
    "        return ' '.join([self.vocabulary[token] for token in tokens])"
   ]
  },
  {
   "cell_type": "code",
   "execution_count": 100,
   "metadata": {},
   "outputs": [],
   "source": [
    "\n",
    "class Shingling:\n",
    "    def __init__(self):\n",
    "        self.shingles = set()\n",
    "        self.hashed_shingles = set()\n",
    "    \n",
    "    def create_shingles(self, text, k):\n",
    "\n",
    "        # Create k-shingles as tuples\n",
    "        self.shingles = {tuple(text[i:i+k]) for i in range(len(text) - k + 1)}\n",
    "        \n",
    "        # Hash each shingle and store in sorted order\n",
    "        self.hashed_shingles = {hash(shingle) for shingle in self.shingles}\n",
    "        \n",
    "        return self.hashed_shingles\n"
   ]
  },
  {
   "cell_type": "code",
   "execution_count": 101,
   "metadata": {},
   "outputs": [],
   "source": [
    "class CompareSets:\n",
    "    def jaccard(self, a, b):\n",
    "        return len(a.intersection(b)) / len(a.union(b))\n"
   ]
  },
  {
   "cell_type": "code",
   "execution_count": 84,
   "metadata": {},
   "outputs": [],
   "source": [
    "from typing import List\n",
    "\n",
    "class MinHashing:\n",
    "    def __init__(self):\n",
    "        self.unique_shingles = set()\n",
    "        \n",
    "    def fit(self, sets:List[set]):\n",
    "        for set_ in sets:\n",
    "            self.unique_shingles.update(set_)\n",
    "\n",
    "    def characteristic_vector(self, shingles: set):\n",
    "        shingles_array = np.array(list(self.unique_shingles))\n",
    "        return np.isin(shingles_array, list(shingles)).astype(np.int8)\n",
    "        \n",
    "\n",
    "    def signature(self, n, shingles:set):\n",
    "        np.random.seed(n)\n",
    "        \n",
    "        permutations = np.array([np.random.permutation(len(self.unique_shingles)) for _ in range(n)])\n",
    "        characteristic_vector = self.characteristic_vector(shingles)\n",
    "        permuted_shingles = permutations * characteristic_vector\n",
    "        minhash = np.array([np.min(row[row != 0]) if np.any(row != 0) else 0 for row in permuted_shingles])\n",
    "        return minhash\n",
    "    "
   ]
  },
  {
   "cell_type": "code",
   "execution_count": 85,
   "metadata": {},
   "outputs": [],
   "source": [
    "class CompareSignatures:\n",
    "    def jaccard(self, a:np.array, b:np.array):\n",
    "        return np.mean(a == b)\n"
   ]
  },
  {
   "cell_type": "code",
   "execution_count": 138,
   "metadata": {},
   "outputs": [],
   "source": [
    "class LSH:\n",
    "    def candidate_pairs(self, signatures:np.array, b, r):\n",
    "        # Use a set to store unique pairs\n",
    "        unique_pairs = set()\n",
    "        \n",
    "        for i in range(b):\n",
    "            band = signatures[:, i*r:(i+1)*r]\n",
    "            for j in range(len(band)):\n",
    "                for k in range(j+1, len(band)):\n",
    "                    if np.array_equal(band[j], band[k]):\n",
    "                        unique_pairs.add((j, k))\n",
    "        \n",
    "        yield from unique_pairs\n",
    "        \n",
    "    "
   ]
  },
  {
   "cell_type": "code",
   "execution_count": 153,
   "metadata": {},
   "outputs": [
    {
     "name": "stdout",
     "output_type": "stream",
     "text": [
      "Candidate pair: 64, 77 \t MinHash Jaccard similarity: 0.56 \t Shingle Jaccard similarity: 0.4943609022556391\n",
      "Candidate pair: 46, 77 \t MinHash Jaccard similarity: 0.52 \t Shingle Jaccard similarity: 0.5170068027210885\n"
     ]
    }
   ],
   "source": [
    "N = 50\n",
    "B = 10\n",
    "R = 5\n",
    "\n",
    "docs = read_documents(\"data/medical\")\n",
    "\n",
    "t = Tokenizer()\n",
    "t.fit(docs)\n",
    "\n",
    "s = Shingling()\n",
    "mh = MinHashing()\n",
    "\n",
    "shingled_docs = [s.create_shingles(t.encode(doc), 3) for doc in docs]\n",
    "mh.fit(shingled_docs)\n",
    "\n",
    "signatures = [(mh.signature(N, doc)) for doc in shingled_docs]\n",
    "\n",
    "c = CompareSignatures()\n",
    "\n",
    "sigs = np.array(signatures)\n",
    "candidate_pairs = list(LSH().candidate_pairs(sigs, b=B, r=R))\n",
    "for x, y in candidate_pairs:\n",
    "    print(f\"Candidate pair: {x}, {y} \\t MinHash Jaccard similarity: {c.jaccard(signatures[x], signatures[y])} \\t Shingle Jaccard similarity: {CompareSets().jaccard(shingled_docs[x], shingled_docs[y])}\")\n",
    "\n"
   ]
  },
  {
   "cell_type": "markdown",
   "metadata": {},
   "source": [
    "Here we've discovered some similarity for medical docs 64 and 77, and 46 and 77. Suprisingly, 46 is not considered similar to 64"
   ]
  },
  {
   "cell_type": "code",
   "execution_count": 157,
   "metadata": {},
   "outputs": [
    {
     "name": "stdout",
     "output_type": "stream",
     "text": [
      "\n",
      "========================================================================================================================\n",
      "Comparing documents 64 and 77\n",
      "========================================================================================================================\n",
      "Document 64                                                                                        | Document 77\n",
      "---------------------------------------------------------------------------------------------------+----------------------------------------------------------------------------------------------\n",
      "In article <1993Apr22.202051.1@vms.ocom.okstate.edu>, banschbach@vms.ocom.okstate.edu writes:      | In article <1993Apr22.202051.1@vms.ocom.okstate.edu>,\n",
      "> In article <1r6g8fINNe88@ceti.cs.unc.edu>, jge@cs.unc.edu (John Eyles) writes:                   | banschbach@vms.ocom.okstate.edu wrote:\n",
      ">> A friend has what is apparently a fairly minor case of Crohn's                                  | > In article <1r6g8fINNe88@ceti.cs.unc.edu>, jge@cs.unc.edu (John Eyles) writes:\n",
      ">> disease.                                                                                        | > > A friend has what is apparently a fairly minor case of Crohn's\n",
      ">> But she can't seem to eat certain foods, such as fresh vegetables,                              | > > disease.\n",
      ">> without discomfort, and of course she wants to avoid a recurrence.                              | > > But she can't seem to eat certain foods, such as fresh vegetables,\n",
      ">> Her question is: are there any nutritionists who specialize in the                              | > > without discomfort, and of course she wants to avoid a recurrence.\n",
      ">> problems of people with Crohn's disease ?                                                       | > > Her question is: are there any nutritionists who specialize in the\n",
      ">> (I saw the suggestion of lipoxygnase inhibitors like tea and turmeric).                         | > > problems of people with Crohn's disease ?\n",
      ">> Thanks in advance,                                                                              | > > (I saw the suggestion of lipoxygnase inhibitors like tea and turmeric).\n",
      ">> John Eyles                                                                                      | > > Thanks in advance,\n",
      "> All your friend really has to do is find a Registered Dietician(RD).  While                      | > > John Eyles\n",
      "> most work in hospitals and clinics, many major cities will have RD's who                         | > All your friend really has to do is find a Registered Dietician(RD).  While \n",
      "> are in \"private practice\" so to speak.  Many physicans will refer their                          | > most work in hospitals and clinics, many major cities will have RD's who \n",
      "> patients with Crohn's disease to RD's for dietary help.  If you can get                          | > are in \"private practice\" so to speak.  Many physicans will refer their \n",
      "> your friend's physician to make a referral, medical insurance should pay for                     | > patients with Crohn's disease to RD's for dietary help.  If you can get \n",
      "> the RD's services just like the services of a physical therapist.  The                           | > your friend's physician to make a referral, medical insurance should pay for \n",
      "> better medical insurance plans will cover this but even if your friend's                         | > the RD's services just like the services of a physical therapist.  The \n",
      "> plan doesn't, it would be well worth the cost to get on a good diet to                           | > better medical insurance plans will cover this but even if your friend's \n",
      "> control the intestinal discomfort and help the intestinal lining heal.                           | > plan doesn't, it would be well worth the cost to get on a good diet to \n",
      "> Crohn's disease is an inflammatory disease of the intestinal lining and                          | > control the intestinal discomfort and help the intestinal lining heal.\n",
      "> lipoxygenase inhibitors may help by decreasing leukotriene formation but                         | > Crohn's disease is an inflammatory disease of the intestinal lining and \n",
      "> I'm not aware of tea or turmeric containing lipoxygenase inhibitors.  For                        | > lipoxygenase inhibitors may help by decreasing leukotriene formation but \n",
      "If you do a MEDLINE search on \"turmeric\" you'll see that it is a potent                            | > I'm not aware of tea or turmeric containing lipoxygenase inhibitors.  For \n",
      "lipoxygenase inhibitor which is being investigated in a number of areas.                           | > bad inflammation, steroids are used but for a mild case, the side effects \n",
      "I'm in cardiology and about 4 years ago the cardiothoracic surgery lab at my                       | > are not worth the small benefit gained by steroid use.  Upjohn is developing \n",
      "hospital compared the effect of a teaspoon of dissolved turmeric vs. a $2000                       | > a new lipoxygenase inhibitor that should greatly help deal with \n",
      "bolus of tPA in preventing myocardial reperfusion injury in a perfused                             | > inflammatory diseases but it's not available yet.\n",
      "Langendorff sheep heart. The turmeric was more effective :-)                                       | > Marty B. \n",
      "A colleague of mine in the School of Pharmacy (Dr. Ron Kohen) has a paper \"in                      | Be sure a dietician is up to date on Crohn's and Ulcerative Colitis.  \n",
      "press\" on the free radical scavenging activity and antioxidant activity of tea.                    | Previously, low residue diets were recommended, but this advice has\n",
      "Josh                                                                                               | now changed.  Also, there will be differences in advice in patients with\n",
      "backon@VMS.HUJI.AC.IL                                                                              | and without obstructuon remaining, so input by the physician will be \n",
      "> bad inflammation, steroids are used but for a mild case, the side effects                        | important.  I find the dietician very important in my practice, and \n",
      "> are not worth the small benefit gained by steroid use.  Upjohn is developing                     | I send most of my patients to a dietician in the course of seeing\n",
      "> a new lipoxygenase inhibitor that should greatly help deal with                                  | them, since dieticians know so much better how to get diet histories\n",
      "> inflammatory diseases but it's not available yet.                                                | and evaluate the contents of a diet than I do.\n",
      "> Marty B.                                                                                         | Steve Holland\n",
      "                                                                                                   | \n",
      "\n",
      "\n",
      "========================================================================================================================\n",
      "Comparing documents 46 and 77\n",
      "========================================================================================================================\n",
      "Document 46                                                                           | Document 77\n",
      "--------------------------------------------------------------------------------------+---------------------------------------------------------------------------------\n",
      "In article <1r6g8fINNe88@ceti.cs.unc.edu>, jge@cs.unc.edu (John Eyles) writes:        | In article <1993Apr22.202051.1@vms.ocom.okstate.edu>,\n",
      "> A friend has what is apparently a fairly minor case of Crohn's                      | banschbach@vms.ocom.okstate.edu wrote:\n",
      "> disease.                                                                            | > In article <1r6g8fINNe88@ceti.cs.unc.edu>, jge@cs.unc.edu (John Eyles) writes:\n",
      "> But she can't seem to eat certain foods, such as fresh vegetables,                  | > > A friend has what is apparently a fairly minor case of Crohn's\n",
      "> without discomfort, and of course she wants to avoid a recurrence.                  | > > disease.\n",
      "> Her question is: are there any nutritionists who specialize in the                  | > > But she can't seem to eat certain foods, such as fresh vegetables,\n",
      "> problems of people with Crohn's disease ?                                           | > > without discomfort, and of course she wants to avoid a recurrence.\n",
      "> (I saw the suggestion of lipoxygnase inhibitors like tea and turmeric).             | > > Her question is: are there any nutritionists who specialize in the\n",
      "> Thanks in advance,                                                                  | > > problems of people with Crohn's disease ?\n",
      "> John Eyles                                                                          | > > (I saw the suggestion of lipoxygnase inhibitors like tea and turmeric).\n",
      "All your friend really has to do is find a Registered Dietician(RD).  While           | > > Thanks in advance,\n",
      "most work in hospitals and clinics, many major cities will have RD's who              | > > John Eyles\n",
      "are in \"private practice\" so to speak.  Many physicans will refer their               | > All your friend really has to do is find a Registered Dietician(RD).  While \n",
      "patients with Crohn's disease to RD's for dietary help.  If you can get               | > most work in hospitals and clinics, many major cities will have RD's who \n",
      "your friend's physician to make a referral, medical insurance should pay for          | > are in \"private practice\" so to speak.  Many physicans will refer their \n",
      "the RD's services just like the services of a physical therapist.  The                | > patients with Crohn's disease to RD's for dietary help.  If you can get \n",
      "better medical insurance plans will cover this but even if your friend's              | > your friend's physician to make a referral, medical insurance should pay for \n",
      "plan doesn't, it would be well worth the cost to get on a good diet to                | > the RD's services just like the services of a physical therapist.  The \n",
      "control the intestinal discomfort and help the intestinal lining heal.                | > better medical insurance plans will cover this but even if your friend's \n",
      "Crohn's disease is an inflammatory disease of the intestinal lining and               | > plan doesn't, it would be well worth the cost to get on a good diet to \n",
      "lipoxygenase inhibitors may help by decreasing leukotriene formation but              | > control the intestinal discomfort and help the intestinal lining heal.\n",
      "I'm not aware of tea or turmeric containing lipoxygenase inhibitors.  For             | > Crohn's disease is an inflammatory disease of the intestinal lining and \n",
      "bad inflammation, steroids are used but for a mild case, the side effects             | > lipoxygenase inhibitors may help by decreasing leukotriene formation but \n",
      "are not worth the small benefit gained by steroid use.  Upjohn is developing          | > I'm not aware of tea or turmeric containing lipoxygenase inhibitors.  For \n",
      "a new lipoxygenase inhibitor that should greatly help deal with                       | > bad inflammation, steroids are used but for a mild case, the side effects \n",
      "inflammatory diseases but it's not available yet.                                     | > are not worth the small benefit gained by steroid use.  Upjohn is developing \n",
      "Marty B.                                                                              | > a new lipoxygenase inhibitor that should greatly help deal with \n",
      "                                                                                      | > inflammatory diseases but it's not available yet.\n",
      "                                                                                      | > Marty B. \n",
      "                                                                                      | Be sure a dietician is up to date on Crohn's and Ulcerative Colitis.  \n",
      "                                                                                      | Previously, low residue diets were recommended, but this advice has\n",
      "                                                                                      | now changed.  Also, there will be differences in advice in patients with\n",
      "                                                                                      | and without obstructuon remaining, so input by the physician will be \n",
      "                                                                                      | important.  I find the dietician very important in my practice, and \n",
      "                                                                                      | I send most of my patients to a dietician in the course of seeing\n",
      "                                                                                      | them, since dieticians know so much better how to get diet histories\n",
      "                                                                                      | and evaluate the contents of a diet than I do.\n",
      "                                                                                      | Steve Holland\n",
      "                                                                                      | \n",
      "\n"
     ]
    }
   ],
   "source": [
    "def view_documents(docs, x, y):\n",
    "    doc1_lines = docs[x].split(\"\\n\")\n",
    "    doc2_lines = docs[y].split(\"\\n\")\n",
    "    \n",
    "    # Get max length for padding\n",
    "    max_len = max(len(max(doc1_lines, key=len)), len(max(doc2_lines, key=len)))\n",
    "    \n",
    "    print(f\"\\n{'='*120}\\nComparing documents {x} and {y}\\n{'='*120}\")\n",
    "    print(f\"{'Document ' + str(x):<{max_len+5}} | {'Document ' + str(y)}\")\n",
    "    print(f\"{'-'*(max_len+5)}-+-{'-'*max_len}\")\n",
    "    \n",
    "    for line1, line2 in itertools.zip_longest(doc1_lines, doc2_lines, fillvalue=\"\"):\n",
    "        print(f\"{line1:<{max_len+5}} | {line2}\")\n",
    "    print()\n",
    "\n",
    "for x, y in candidate_pairs:\n",
    "    view_documents(docs, x, y)\n"
   ]
  },
  {
   "cell_type": "code",
   "execution_count": 158,
   "metadata": {},
   "outputs": [
    {
     "name": "stdout",
     "output_type": "stream",
     "text": [
      "\n",
      "========================================================================================================================\n",
      "Comparing documents 46 and 77\n",
      "========================================================================================================================\n",
      "Document 46                                                                           | Document 77\n",
      "--------------------------------------------------------------------------------------+---------------------------------------------------------------------------------\n",
      "In article <1r6g8fINNe88@ceti.cs.unc.edu>, jge@cs.unc.edu (John Eyles) writes:        | In article <1993Apr22.202051.1@vms.ocom.okstate.edu>,\n",
      "> A friend has what is apparently a fairly minor case of Crohn's                      | banschbach@vms.ocom.okstate.edu wrote:\n",
      "> disease.                                                                            | > In article <1r6g8fINNe88@ceti.cs.unc.edu>, jge@cs.unc.edu (John Eyles) writes:\n",
      "> But she can't seem to eat certain foods, such as fresh vegetables,                  | > > A friend has what is apparently a fairly minor case of Crohn's\n",
      "> without discomfort, and of course she wants to avoid a recurrence.                  | > > disease.\n",
      "> Her question is: are there any nutritionists who specialize in the                  | > > But she can't seem to eat certain foods, such as fresh vegetables,\n",
      "> problems of people with Crohn's disease ?                                           | > > without discomfort, and of course she wants to avoid a recurrence.\n",
      "> (I saw the suggestion of lipoxygnase inhibitors like tea and turmeric).             | > > Her question is: are there any nutritionists who specialize in the\n",
      "> Thanks in advance,                                                                  | > > problems of people with Crohn's disease ?\n",
      "> John Eyles                                                                          | > > (I saw the suggestion of lipoxygnase inhibitors like tea and turmeric).\n",
      "All your friend really has to do is find a Registered Dietician(RD).  While           | > > Thanks in advance,\n",
      "most work in hospitals and clinics, many major cities will have RD's who              | > > John Eyles\n",
      "are in \"private practice\" so to speak.  Many physicans will refer their               | > All your friend really has to do is find a Registered Dietician(RD).  While \n",
      "patients with Crohn's disease to RD's for dietary help.  If you can get               | > most work in hospitals and clinics, many major cities will have RD's who \n",
      "your friend's physician to make a referral, medical insurance should pay for          | > are in \"private practice\" so to speak.  Many physicans will refer their \n",
      "the RD's services just like the services of a physical therapist.  The                | > patients with Crohn's disease to RD's for dietary help.  If you can get \n",
      "better medical insurance plans will cover this but even if your friend's              | > your friend's physician to make a referral, medical insurance should pay for \n",
      "plan doesn't, it would be well worth the cost to get on a good diet to                | > the RD's services just like the services of a physical therapist.  The \n",
      "control the intestinal discomfort and help the intestinal lining heal.                | > better medical insurance plans will cover this but even if your friend's \n",
      "Crohn's disease is an inflammatory disease of the intestinal lining and               | > plan doesn't, it would be well worth the cost to get on a good diet to \n",
      "lipoxygenase inhibitors may help by decreasing leukotriene formation but              | > control the intestinal discomfort and help the intestinal lining heal.\n",
      "I'm not aware of tea or turmeric containing lipoxygenase inhibitors.  For             | > Crohn's disease is an inflammatory disease of the intestinal lining and \n",
      "bad inflammation, steroids are used but for a mild case, the side effects             | > lipoxygenase inhibitors may help by decreasing leukotriene formation but \n",
      "are not worth the small benefit gained by steroid use.  Upjohn is developing          | > I'm not aware of tea or turmeric containing lipoxygenase inhibitors.  For \n",
      "a new lipoxygenase inhibitor that should greatly help deal with                       | > bad inflammation, steroids are used but for a mild case, the side effects \n",
      "inflammatory diseases but it's not available yet.                                     | > are not worth the small benefit gained by steroid use.  Upjohn is developing \n",
      "Marty B.                                                                              | > a new lipoxygenase inhibitor that should greatly help deal with \n",
      "                                                                                      | > inflammatory diseases but it's not available yet.\n",
      "                                                                                      | > Marty B. \n",
      "                                                                                      | Be sure a dietician is up to date on Crohn's and Ulcerative Colitis.  \n",
      "                                                                                      | Previously, low residue diets were recommended, but this advice has\n",
      "                                                                                      | now changed.  Also, there will be differences in advice in patients with\n",
      "                                                                                      | and without obstructuon remaining, so input by the physician will be \n",
      "                                                                                      | important.  I find the dietician very important in my practice, and \n",
      "                                                                                      | I send most of my patients to a dietician in the course of seeing\n",
      "                                                                                      | them, since dieticians know so much better how to get diet histories\n",
      "                                                                                      | and evaluate the contents of a diet than I do.\n",
      "                                                                                      | Steve Holland\n",
      "                                                                                      | \n",
      "\n"
     ]
    }
   ],
   "source": [
    "view_documents(docs, 46, 77)\n"
   ]
  },
  {
   "cell_type": "markdown",
   "metadata": {},
   "source": [
    "Lets investigate the minhash similarities"
   ]
  },
  {
   "cell_type": "code",
   "execution_count": 150,
   "metadata": {},
   "outputs": [
    {
     "data": {
      "text/plain": [
       "[((64, 77), np.float64(0.56)),\n",
       " ((46, 77), np.float64(0.52)),\n",
       " ((46, 64), np.float64(0.46)),\n",
       " ((69, 97), np.float64(0.38)),\n",
       " ((40, 49), np.float64(0.34)),\n",
       " ((76, 98), np.float64(0.34)),\n",
       " ((3, 12), np.float64(0.32)),\n",
       " ((56, 73), np.float64(0.32)),\n",
       " ((6, 67), np.float64(0.24)),\n",
       " ((61, 85), np.float64(0.24))]"
      ]
     },
     "execution_count": 150,
     "metadata": {},
     "output_type": "execute_result"
    }
   ],
   "source": [
    "# compute the pair wise signature similarities\n",
    "pairs = list(itertools.combinations(range(len(signatures)), 2))\n",
    "pair_similarities = [((x,y), c.jaccard(signatures[x], signatures[y])) for x, y in pairs]\n",
    "\n",
    "pair_similarities.sort(key=lambda x: x[1], reverse=True)\n",
    "\n",
    "pair_similarities[:10]\n",
    "\n"
   ]
  },
  {
   "cell_type": "markdown",
   "metadata": {},
   "source": [
    "Apparently we found the most similar documents earlier, with similarities higher than 0.5"
   ]
  }
 ],
 "metadata": {
  "kernelspec": {
   "display_name": "Python 3 (ipykernel)",
   "language": "python",
   "name": "python3"
  },
  "language_info": {
   "codemirror_mode": {
    "name": "ipython",
    "version": 3
   },
   "file_extension": ".py",
   "mimetype": "text/x-python",
   "name": "python",
   "nbconvert_exporter": "python",
   "pygments_lexer": "ipython3",
   "version": "3.12.6"
  }
 },
 "nbformat": 4,
 "nbformat_minor": 4
}
